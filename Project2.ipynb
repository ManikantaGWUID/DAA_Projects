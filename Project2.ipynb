{
 "cells": [
  {
   "cell_type": "code",
   "execution_count": 53,
   "id": "3e2a8df3-f6a8-4aff-8410-ce739eaff1bf",
   "metadata": {
    "scrolled": true
   },
   "outputs": [],
   "source": [
    "# Creating a PriorityQueue with push, pop and null check operations\n",
    "import time\n",
    "class PriorityQueue:\n",
    "\n",
    "    # empty list to hold queue\n",
    "    def __init__(self):\n",
    "        self.queue = []\n",
    "\n",
    "    # Add a Node to Queue by keeping the order by freq\n",
    "    def push(self, item):\n",
    "        self.queue.append(item)\n",
    "        self.queue.sort(key=lambda x: x.freq)\n",
    "\n",
    "    # Remove the Node with lowest frequency\n",
    "    def pop(self):\n",
    "        return self.queue.pop(0)\n",
    "\n",
    "    # check the whether queue is empty\n",
    "    def is_empty(self):\n",
    "        return len(self.queue) == 0\n",
    "\n",
    "# Creating a Node Class with the information of symbol, freq, left, and right of the node.\n",
    "\n",
    "class Node:\n",
    "\n",
    "    # Constructor for Node initialization\n",
    "    def __init__(self, symbol, freq):\n",
    "\n",
    "        self.symbol = symbol\n",
    "        self.freq = freq\n",
    "        self.left = None\n",
    "        self.right = None\n",
    "\n",
    "    # Allow nodes to be compared based on the frequencies, used for sorting nodes in priority Queue\n",
    "    \n",
    "    def __lt__(self, other):\n",
    "        \n",
    "        return self.freq < other.freq\n",
    "\n",
    "\n",
    "def hoffman_tree(symbol_freq):\n",
    "\n",
    "    # create a priority Queue of nodes\n",
    "\n",
    "    pq = PriorityQueue()\n",
    "\n",
    "    # Hoffman Node objects for each frequnecy is pushed into priority Queue\n",
    "    \n",
    "    for symb, freq in symbol_freq.items():\n",
    "        pq.push(Node(symb, freq))\n",
    "\n",
    "    # till the length of the queue is 1 the smallest two elements are popped and and other node is with frequncy some of the node and pushed into priority Queue\n",
    "    \n",
    "    while len(pq.queue) > 1:\n",
    "        left = pq.pop()\n",
    "        right = pq.pop()\n",
    "        sum_node = Node(None, left.freq + right.freq)\n",
    "        sum_node.left = left\n",
    "        sum_node.right = right\n",
    "        pq.push(sum_node)\n",
    "\n",
    "    # the root of the hoffman tree is returned.\n",
    "    return pq.pop()\n",
    "\n",
    "\n",
    "def generate_hoffman_codes(symbol_freq):\n",
    "\n",
    "    '''\n",
    "\n",
    "    input: dictionary of symbol_frequency.\n",
    "\n",
    "    output: dictionary of hoffman codes for that symbols.\n",
    "    \n",
    "    '''\n",
    "\n",
    "    # Generate a hoffman code till traversing through the node from the root node concatenating 0 on the left of the node and 1 on the right.\n",
    "    start = time.time_ns()\n",
    "    def hoffman_codes_fun(node, current_code = \"\", huffman_codes=None):\n",
    "        if huffman_codes is None:\n",
    "            huffman_codes = {}\n",
    "        if node.symbol:\n",
    "            huffman_codes[node.symbol] = current_code\n",
    "        if node.left:\n",
    "            hoffman_codes_fun(node.left, current_code + \"0\", huffman_codes)\n",
    "        if node.right:\n",
    "            hoffman_codes_fun(node.right, current_code + \"1\", huffman_codes)\n",
    "        return huffman_codes\n",
    "\n",
    "    # Generating the hofmann tree\n",
    "    root = hoffman_tree(symbol_freq)\n",
    "\n",
    "    # calling hoffman_codes for the symbol_frequenct dictionary\n",
    "    huffman_codes = hoffman_codes_fun(root)\n",
    "    end = time.time_ns()\n",
    "    \n",
    "    return huffman_codes, end-start\n",
    "\n",
    "\n",
    "\n",
    "    \n"
   ]
  },
  {
   "cell_type": "code",
   "execution_count": null,
   "id": "77146680-310b-492f-b637-413d0da0f9cf",
   "metadata": {},
   "outputs": [],
   "source": [
    "# Sample Symbol Frequency for the 5 symbols and the symbols generated are dynamic"
   ]
  },
  {
   "cell_type": "code",
   "execution_count": 49,
   "id": "d4b576b9-2933-4e77-a771-08615e6d2830",
   "metadata": {},
   "outputs": [],
   "source": [
    "sample_symbol_frequency = {\"a\"+str(i):random.randint(10,100) for i in range(5)}"
   ]
  },
  {
   "cell_type": "code",
   "execution_count": 50,
   "id": "99f1eb06-713d-43bb-9d1a-2d0e12fa08e2",
   "metadata": {},
   "outputs": [
    {
     "data": {
      "text/plain": [
       "{'a0': 82, 'a1': 85, 'a2': 10, 'a3': 27, 'a4': 39}"
      ]
     },
     "execution_count": 50,
     "metadata": {},
     "output_type": "execute_result"
    }
   ],
   "source": [
    "sample_symbol_frequency"
   ]
  },
  {
   "cell_type": "code",
   "execution_count": 52,
   "id": "4dbf5b4e-69b9-4d17-92e9-c0d2b899e3ee",
   "metadata": {},
   "outputs": [
    {
     "name": "stdout",
     "output_type": "stream",
     "text": [
      "Symbol -  a1  Corresponding Code: 0\n",
      "Symbol -  a2  Corresponding Code: 1000\n",
      "Symbol -  a3  Corresponding Code: 1001\n",
      "Symbol -  a4  Corresponding Code: 101\n",
      "Symbol -  a0  Corresponding Code: 11\n"
     ]
    }
   ],
   "source": [
    "codes = generate_hoffman_codes(sample_symbol_frequency)[0]\n",
    "for s, c in codes.items():\n",
    "        print(\"Symbol - \", s, \" Corresponding Code:\", c)"
   ]
  },
  {
   "cell_type": "code",
   "execution_count": 18,
   "id": "4799c59d-fa17-4024-b6a0-23dcd047bc99",
   "metadata": {
    "scrolled": true
   },
   "outputs": [],
   "source": [
    "# Generating the symbol_freq with differnt length of the dictionary"
   ]
  },
  {
   "cell_type": "code",
   "execution_count": 44,
   "id": "71f09da6-d397-449e-a32d-338cac0f662f",
   "metadata": {},
   "outputs": [],
   "source": [
    "n = [100,1000,10000,100000]"
   ]
  },
  {
   "cell_type": "code",
   "execution_count": 45,
   "id": "5ffde4f0-3cd2-4003-879e-0249b39474a1",
   "metadata": {},
   "outputs": [],
   "source": [
    "symbol_freq_for_diff_n = [{\"a\"+str(i):random.randint(10,100) for i in range(j)} for j in n]"
   ]
  },
  {
   "cell_type": "code",
   "execution_count": 46,
   "id": "c001ef42-5e76-4f89-89fe-c25dd13e2780",
   "metadata": {},
   "outputs": [],
   "source": [
    "exec_time = [generate_hoffman_codes(i)[1] for i in symbol_freq_for_diff_n]"
   ]
  },
  {
   "cell_type": "code",
   "execution_count": 48,
   "id": "bad779dc-8279-4e55-9a61-71b00713cafc",
   "metadata": {
    "scrolled": true
   },
   "outputs": [
    {
     "data": {
      "text/plain": [
       "[1982500, 84782600, 6591851200, 8177103833800]"
      ]
     },
     "execution_count": 48,
     "metadata": {},
     "output_type": "execute_result"
    }
   ],
   "source": [
    "exec_time"
   ]
  }
 ],
 "metadata": {
  "kernelspec": {
   "display_name": "Python 3 (ipykernel)",
   "language": "python",
   "name": "python3"
  },
  "language_info": {
   "codemirror_mode": {
    "name": "ipython",
    "version": 3
   },
   "file_extension": ".py",
   "mimetype": "text/x-python",
   "name": "python",
   "nbconvert_exporter": "python",
   "pygments_lexer": "ipython3",
   "version": "3.9.5"
  }
 },
 "nbformat": 4,
 "nbformat_minor": 5
}
